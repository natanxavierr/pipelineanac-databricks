{
 "cells": [
  {
   "cell_type": "code",
   "execution_count": 0,
   "metadata": {
    "application/vnd.databricks.v1+cell": {
     "cellMetadata": {
      "byteLimit": 2048000,
      "rowLimit": 10000
     },
     "inputWidgets": {},
     "nuid": "c090cb95-64a9-42d7-9b4a-b87236363384",
     "showTitle": false,
     "tableResultSettingsMap": {},
     "title": ""
    }
   },
   "outputs": [],
   "source": [
    "df = spark.read.parquet(\"dbfs:/mnt/Anac/Silver/anac_silver.parquet/\")\n",
    "\n",
    "#1°:Selecionar somentes colunas que o cliente/setor pediu\n",
    "colunas = ['Aerodromo_de_Destino', 'Aerodromo_de_Origem','Classificacao_da_Ocorrência', 'Danos_a_Aeronave', 'Data_da_Ocorrencia','Municipio','UF','Regiao','Tipo_de_Aerodromo', 'Tipo_de_Ocorrencia','Lesoes_Desconhecidas_Passageiros', 'Lesoes_Desconhecidas_Terceiros', 'Lesoes_Desconhecidas_Tripulantes', 'Lesoes_Fatais_Passageiros', 'Lesoes_Fatais_Terceiros', 'Lesoes_Fatais_Tripulantes', 'Lesoes_Graves_Passageiros', 'Lesoes_Graves_Terceiros', 'Lesoes_Graves_Tripulantes', 'Lesoes_Leves_Passageiros', 'Lesoes_Leves_Terceiros', 'Lesoes_Leves_Tripulantes']\n",
    "df = df.select(colunas)"
   ]
  },
  {
   "cell_type": "code",
   "execution_count": 0,
   "metadata": {
    "application/vnd.databricks.v1+cell": {
     "cellMetadata": {
      "byteLimit": 2048000,
      "rowLimit": 10000
     },
     "inputWidgets": {},
     "nuid": "faecee79-ad85-457d-8157-6756668f67be",
     "showTitle": false,
     "tableResultSettingsMap": {},
     "title": ""
    }
   },
   "outputs": [],
   "source": [
    "#2°:Criar uma nova coluna que faz a soma de todas as lesoes \n",
    "colunas_a_somar = [\n",
    "    \"Lesoes_Desconhecidas_Passageiros\",\n",
    "    \"Lesoes_Desconhecidas_Terceiros\",\n",
    "    \"Lesoes_Desconhecidas_Tripulantes\",\n",
    "    \"Lesoes_Fatais_Passageiros\",\n",
    "    \"Lesoes_Fatais_Terceiros\",\n",
    "    \"Lesoes_Fatais_Tripulantes\",\n",
    "    \"Lesoes_Graves_Passageiros\",\n",
    "    \"Lesoes_Graves_Terceiros\",\n",
    "    \"Lesoes_Graves_Tripulantes\",\n",
    "    \"Lesoes_Leves_Passageiros\",\n",
    "    \"Lesoes_Leves_Terceiros\",\n",
    "    \"Lesoes_Leves_Tripulantes\"\n",
    "]\n",
    "df = df.withColumn(\"Total_Lesoes\", sum(df[somartudo] for somartudo in colunas_a_somar))\n"
   ]
  },
  {
   "cell_type": "code",
   "execution_count": 0,
   "metadata": {
    "application/vnd.databricks.v1+cell": {
     "cellMetadata": {
      "byteLimit": 2048000,
      "rowLimit": 10000
     },
     "inputWidgets": {},
     "nuid": "3b0ed7f5-e0a9-4725-8eac-9367a9bf864f",
     "showTitle": false,
     "tableResultSettingsMap": {},
     "title": ""
    }
   },
   "outputs": [],
   "source": [
    "# 3°:renomear colunas para ficar mais intuitivas para o usuario final \n",
    "df = df\\\n",
    "    .withColumnRenamed('Aerodromo_de_Destino', 'Destino')\\\n",
    "    .withColumnRenamed('Aerodromo_de_Origem', 'Origem')\\\n",
    "    .withColumnRenamed('Classificacao_da_Ocorrência', 'Classificacao')\\\n",
    "    .withColumnRenamed('Danos_a_Aeronave', 'Danos')\\\n",
    "    .withColumnRenamed('Data_da_Ocorrencia', 'Data')\\\n",
    "    .withColumnRenamed('UF', 'Estado')\\\n",
    "    .withColumnRenamed('Aerodromo_de_Destino', 'Destino')\\\n",
    "    .withColumnRenamed('Aerodromo_de_Destino', 'Destino')\n"
   ]
  },
  {
   "cell_type": "code",
   "execution_count": 0,
   "metadata": {
    "application/vnd.databricks.v1+cell": {
     "cellMetadata": {
      "byteLimit": 2048000,
      "rowLimit": 10000
     },
     "inputWidgets": {},
     "nuid": "1f7ecc23-24ff-490c-9c3e-0e1da179203c",
     "showTitle": false,
     "tableResultSettingsMap": {},
     "title": ""
    }
   },
   "outputs": [],
   "source": [
    "#4° Excluir dados que estados tenham a classificação [Indeterminado, Sem Registro, Exterior]\n",
    "classificacoes_a_excluir = [\"Indeterminado\", \"Sem Registro\", \"Exterior\"]\n",
    "df = df.filter(~df['Estado'].isin(classificacoes_a_excluir))\n"
   ]
  },
  {
   "cell_type": "code",
   "execution_count": 0,
   "metadata": {
    "application/vnd.databricks.v1+cell": {
     "cellMetadata": {
      "byteLimit": 2048000,
      "rowLimit": 10000
     },
     "inputWidgets": {},
     "nuid": "e5cc14c0-dbf9-49ff-a2c9-52c4ecfcf43f",
     "showTitle": false,
     "tableResultSettingsMap": {},
     "title": ""
    }
   },
   "outputs": [],
   "source": [
    "#5°: inserir coluna com nome de atualização para usuario ver quando os dados foram atualizados \n",
    "from pyspark.sql.functions import current_timestamp, date_format,from_utc_timestamp\n",
    "df = df.withColumn(\"Atualizacao\",\\\n",
    "     date_format( from_utc_timestamp(current_timestamp(), \"America/Sao_Paulo\"), \"yyyy-MM-dd HH:mm:ss\"))"
   ]
  },
  {
   "cell_type": "code",
   "execution_count": 0,
   "metadata": {
    "application/vnd.databricks.v1+cell": {
     "cellMetadata": {
      "byteLimit": 2048000,
      "rowLimit": 10000
     },
     "inputWidgets": {},
     "nuid": "aa60c666-64fe-4bc8-a113-b9e2baeb68d9",
     "showTitle": false,
     "tableResultSettingsMap": {},
     "title": ""
    }
   },
   "outputs": [],
   "source": [
    "#6°:Salvar na camada Gold particionada por UF > 'Estado'\n",
    "df.write\\\n",
    "    .mode(\"overwrite\")\\\n",
    "    .format(\"parquet\")\\\n",
    "    .partitionBy(\"Estado\")\\\n",
    "    .save(\"dbfs:/mnt/Anac/Gold/anac_gold_particionado\")"
   ]
  },
  {
   "cell_type": "markdown",
   "metadata": {
    "application/vnd.databricks.v1+cell": {
     "cellMetadata": {},
     "inputWidgets": {},
     "nuid": "78e68c40-31c8-409a-8490-2d8d5d544af1",
     "showTitle": false,
     "tableResultSettingsMap": {},
     "title": ""
    }
   },
   "source": [
    "# PRÁTICA NATAN CAMADA GOLD"
   ]
  },
  {
   "cell_type": "code",
   "execution_count": 0,
   "metadata": {
    "application/vnd.databricks.v1+cell": {
     "cellMetadata": {
      "byteLimit": 2048000,
      "rowLimit": 10000
     },
     "inputWidgets": {},
     "nuid": "fcf70347-d6b9-4885-b8d4-34d35782d597",
     "showTitle": true,
     "tableResultSettingsMap": {},
     "title": "Gold - Lendo Arquivo Silver"
    }
   },
   "outputs": [],
   "source": [
    "## Lendo Arquivo Parquet Silver\n",
    "\n",
    "df = spark.read.parquet(\"dbfs:/mnt/Anac/Silver/anac_silver.parquet/\")"
   ]
  },
  {
   "cell_type": "code",
   "execution_count": 0,
   "metadata": {
    "application/vnd.databricks.v1+cell": {
     "cellMetadata": {
      "byteLimit": 2048000,
      "rowLimit": 10000
     },
     "inputWidgets": {},
     "nuid": "5db0cfaf-6be1-49f0-8eb1-bee9fa4a886e",
     "showTitle": true,
     "tableResultSettingsMap": {},
     "title": "Gold - Selecionando Colunas"
    }
   },
   "outputs": [],
   "source": [
    "## Selecionando algumas colunas que o cliente/setor pediu\n",
    "\n",
    "colunas = ['Aerodromo_de_Destino', 'Aerodromo_de_Origem','Classificacao_da_Ocorrência', 'Danos_a_Aeronave', 'Data_da_Ocorrencia','Municipio','UF','Regiao','Tipo_de_Aerodromo', 'Tipo_de_Ocorrencia','Lesoes_Desconhecidas_Passageiros', 'Lesoes_Desconhecidas_Terceiros', 'Lesoes_Desconhecidas_Tripulantes', 'Lesoes_Fatais_Passageiros', 'Lesoes_Fatais_Terceiros', 'Lesoes_Fatais_Tripulantes', 'Lesoes_Graves_Passageiros', 'Lesoes_Graves_Terceiros', 'Lesoes_Graves_Tripulantes', 'Lesoes_Leves_Passageiros', 'Lesoes_Leves_Terceiros', 'Lesoes_Leves_Tripulantes']\n",
    "\n",
    "df = df.select(colunas)\n"
   ]
  },
  {
   "cell_type": "code",
   "execution_count": 0,
   "metadata": {
    "application/vnd.databricks.v1+cell": {
     "cellMetadata": {
      "byteLimit": 2048000,
      "rowLimit": 10000
     },
     "inputWidgets": {},
     "nuid": "5a83c823-4304-4f0f-9680-21b069422c44",
     "showTitle": true,
     "tableResultSettingsMap": {},
     "title": "Gold - Criando Nova Coluna de Total Soma Lesões"
    }
   },
   "outputs": [],
   "source": [
    "#2°:Criar uma nova coluna que faz a soma de todas as lesoes \n",
    "colunas_a_somar = [\n",
    "    \"Lesoes_Desconhecidas_Passageiros\",\n",
    "    \"Lesoes_Desconhecidas_Terceiros\",\n",
    "    \"Lesoes_Desconhecidas_Tripulantes\",\n",
    "    \"Lesoes_Fatais_Passageiros\",\n",
    "    \"Lesoes_Fatais_Terceiros\",\n",
    "    \"Lesoes_Fatais_Tripulantes\",\n",
    "    \"Lesoes_Graves_Passageiros\",\n",
    "    \"Lesoes_Graves_Terceiros\",\n",
    "    \"Lesoes_Graves_Tripulantes\",\n",
    "    \"Lesoes_Leves_Passageiros\",\n",
    "    \"Lesoes_Leves_Terceiros\",\n",
    "    \"Lesoes_Leves_Tripulantes\"\n",
    "]\n",
    "\n",
    "df = df.withColumn(\"Total_Lesoes\", sum(df[somartudo] for somartudo in colunas_a_somar))"
   ]
  },
  {
   "cell_type": "code",
   "execution_count": 0,
   "metadata": {
    "application/vnd.databricks.v1+cell": {
     "cellMetadata": {
      "byteLimit": 2048000,
      "rowLimit": 10000
     },
     "inputWidgets": {},
     "nuid": "d3707f7f-4d79-4e40-934a-b0bc44a48a1a",
     "showTitle": true,
     "tableResultSettingsMap": {},
     "title": "Renomeando algumas Colunas"
    }
   },
   "outputs": [],
   "source": [
    "## Renomeando colunas para ficar mais intuitivas para o usuario final \n",
    "\n",
    "df = df\\\n",
    "    .withColumnRenamed('Aerodromo_de_Destino', 'Destino')\\\n",
    "    .withColumnRenamed('Aerodromo_de_Origem', 'Origem')\\\n",
    "    .withColumnRenamed('Classificacao_da_Ocorrência', 'Classificacao')\\\n",
    "    .withColumnRenamed('Danos_a_Aeronave', 'Danos')\\\n",
    "    .withColumnRenamed('Data_da_Ocorrencia', 'Data')\\\n",
    "    .withColumnRenamed('UF', 'Estado')\\\n",
    "    .withColumnRenamed('Aerodromo_de_Destino', 'Destino')\\\n",
    "    .withColumnRenamed('Aerodromo_de_Destino', 'Destino')\n"
   ]
  },
  {
   "cell_type": "code",
   "execution_count": 0,
   "metadata": {
    "application/vnd.databricks.v1+cell": {
     "cellMetadata": {
      "byteLimit": 2048000,
      "rowLimit": 10000
     },
     "inputWidgets": {},
     "nuid": "a706c257-feea-4da9-b140-14cb1e676042",
     "showTitle": true,
     "tableResultSettingsMap": {},
     "title": "Filtrando Classificações - Diminuindo a Qtd de Linhas"
    }
   },
   "outputs": [],
   "source": [
    "## Filtrando classificações diferentes de \"Indeterminado\", \"Sem Registro\", \"Exterior\" \n",
    "\n",
    "classificacoes_a_excluir = [\"Indeterminado\", \"Sem Registro\", \"Exterior\"]\n",
    "\n",
    "df = df.filter(~df['Estado'].isin(classificacoes_a_excluir))"
   ]
  },
  {
   "cell_type": "code",
   "execution_count": 0,
   "metadata": {
    "application/vnd.databricks.v1+cell": {
     "cellMetadata": {},
     "inputWidgets": {},
     "nuid": "1c785202-708f-4f58-ab92-089603d24ee9",
     "showTitle": true,
     "tableResultSettingsMap": {},
     "title": "Gold - Nova coluna Data Atualização"
    }
   },
   "outputs": [],
   "source": [
    "## Adicionando Coluna de Data Atualização \n",
    "\n",
    "from pyspark.sql.functions import current_timestamp, date_format,from_utc_timestamp\n",
    "\n",
    "df = df.withColumn(\"Atualização\", date_format( from_utc_timestamp(current_timestamp(), \"America/Sao_Paulo\"), \"yyyy-MM-dd HH:mm:ss\"))"
   ]
  },
  {
   "cell_type": "code",
   "execution_count": 0,
   "metadata": {
    "application/vnd.databricks.v1+cell": {
     "cellMetadata": {
      "byteLimit": 2048000,
      "rowLimit": 10000
     },
     "inputWidgets": {},
     "nuid": "d57a1e3b-d092-41ff-8d49-72a579f03341",
     "showTitle": false,
     "tableResultSettingsMap": {},
     "title": ""
    }
   },
   "outputs": [],
   "source": [
    "df.write\\\n",
    "    .mode(\"overwrite\")\\\n",
    "    .format(\"parquet\")\\\n",
    "    .partitionBy(\"Estado\")\\\n",
    "    .save(\"dbfs:/mnt/Anac/Gold/anac_gold_particionado\")"
   ]
  }
 ],
 "metadata": {
  "application/vnd.databricks.v1+notebook": {
   "computePreferences": null,
   "dashboards": [],
   "environmentMetadata": null,
   "language": "python",
   "notebookMetadata": {
    "mostRecentlyExecutedCommandWithImplicitDF": {
     "commandId": 3911042157432533,
     "dataframes": [
      "_sqldf"
     ]
    },
    "pythonIndentUnit": 4
   },
   "notebookName": "5. Anac - Camada Gold (Refaturado)",
   "widgets": {}
  },
  "language_info": {
   "name": "python"
  }
 },
 "nbformat": 4,
 "nbformat_minor": 0
}
