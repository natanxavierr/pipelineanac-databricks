{
 "cells": [
  {
   "cell_type": "code",
   "execution_count": 0,
   "metadata": {
    "application/vnd.databricks.v1+cell": {
     "cellMetadata": {
      "byteLimit": 2048000,
      "rowLimit": 10000
     },
     "inputWidgets": {},
     "nuid": "c090cb95-64a9-42d7-9b4a-b87236363384",
     "showTitle": false,
     "tableResultSettingsMap": {},
     "title": ""
    }
   },
   "outputs": [],
   "source": [
    "df = spark.read.json(\"dbfs:/mnt/Anac/Bronze/V_OCORRENCIA_AMPLA.json\")\n"
   ]
  },
  {
   "cell_type": "code",
   "execution_count": 0,
   "metadata": {
    "application/vnd.databricks.v1+cell": {
     "cellMetadata": {
      "byteLimit": 2048000,
      "rowLimit": 10000
     },
     "inputWidgets": {},
     "nuid": "785022ff-70e8-40f6-964f-6ecac9b44339",
     "showTitle": false,
     "tableResultSettingsMap": {},
     "title": ""
    }
   },
   "outputs": [],
   "source": [
    "colunas = ['Aerodromo_de_Destino', 'Aerodromo_de_Origem', 'CLS', 'Categoria_da_Aeronave', 'Classificacao_da_Ocorrência', 'Danos_a_Aeronave', 'Data_da_Ocorrencia', 'Descricao_do_Tipo', 'Fase_da_Operacao', 'Historico', 'Hora_da_Ocorrência', 'ICAO', 'Ilesos_Tripulantes', 'Ilesos_Passageiros', 'Latitude', 'Matricula', 'Modelo', 'Municipio', 'Nome_do_Fabricante', 'Numero_da_Ficha', 'Numero_da_Ocorrencia', 'Numero_de_Assentos', 'Operacao', 'Operador', 'Operador_Padronizado', 'PMD', 'PSSO', 'Regiao', 'Tipo_ICAO', 'Tipo_de_Aerodromo', 'Tipo_de_Ocorrencia', 'UF']\n",
    "\n",
    "# percorrer todas as colunas e fazer a mesma coisa pra todas selecionadas na variavel \n",
    "for ajuste in colunas:\n",
    "    df = df.fillna('Sem Registro', subset=[ajuste])\n",
    "\n",
    "#display(df)"
   ]
  },
  {
   "cell_type": "code",
   "execution_count": 0,
   "metadata": {
    "application/vnd.databricks.v1+cell": {
     "cellMetadata": {
      "byteLimit": 2048000,
      "rowLimit": 10000
     },
     "inputWidgets": {},
     "nuid": "faecee79-ad85-457d-8157-6756668f67be",
     "showTitle": false,
     "tableResultSettingsMap": {},
     "title": ""
    }
   },
   "outputs": [],
   "source": [
    "#Conversao para int \n",
    "ajuste_int = ['Lesoes_Desconhecidas_Passageiros', 'Lesoes_Desconhecidas_Terceiros', 'Lesoes_Desconhecidas_Tripulantes', 'Lesoes_Fatais_Passageiros', 'Lesoes_Fatais_Terceiros', 'Lesoes_Fatais_Tripulantes', 'Lesoes_Graves_Passageiros', 'Lesoes_Graves_Terceiros', 'Lesoes_Graves_Tripulantes', 'Lesoes_Leves_Passageiros', 'Lesoes_Leves_Terceiros', 'Lesoes_Leves_Tripulantes']\n",
    "\n",
    "\n",
    "for Loop in ajuste_int :\n",
    "    df = df\\\n",
    "        .withColumn(Loop, df[Loop].cast(\"int\"))\\\n",
    "        .fillna(0, subset=[Loop])\n"
   ]
  },
  {
   "cell_type": "code",
   "execution_count": 0,
   "metadata": {
    "application/vnd.databricks.v1+cell": {
     "cellMetadata": {
      "byteLimit": 2048000,
      "rowLimit": 10000
     },
     "inputWidgets": {},
     "nuid": "aa60c666-64fe-4bc8-a113-b9e2baeb68d9",
     "showTitle": false,
     "tableResultSettingsMap": {},
     "title": ""
    }
   },
   "outputs": [],
   "source": [
    "#Salvando Camada Silver \n",
    "df.write.mode(\"overwrite\").parquet(\"dbfs:/mnt/Anac/Silver/anac_silver.parquet\")"
   ]
  },
  {
   "cell_type": "markdown",
   "metadata": {
    "application/vnd.databricks.v1+cell": {
     "cellMetadata": {},
     "inputWidgets": {},
     "nuid": "84e6453e-5a9e-4cfb-aacd-49571ec2cb02",
     "showTitle": false,
     "tableResultSettingsMap": {},
     "title": ""
    }
   },
   "source": [
    "#  PRÁTICA _NATAN_ CAMADA SILVER"
   ]
  },
  {
   "cell_type": "code",
   "execution_count": 0,
   "metadata": {
    "application/vnd.databricks.v1+cell": {
     "cellMetadata": {
      "byteLimit": 2048000,
      "rowLimit": 10000
     },
     "inputWidgets": {},
     "nuid": "f5a23cdb-3ef0-47a4-9048-5c7db5e6ad1a",
     "showTitle": true,
     "tableResultSettingsMap": {},
     "title": "Silver - Lendo arquivo Bronze"
    }
   },
   "outputs": [],
   "source": [
    "## LENDO ARQUIVO DA CAMADA BRONZE\n",
    "\n",
    "caminho = \"dbfs:/mnt/Anac/Bronze/V_OCORRENCIA_AMPLA.json\"\n",
    "\n",
    "df = spark.read.json(caminho)"
   ]
  },
  {
   "cell_type": "code",
   "execution_count": 0,
   "metadata": {
    "application/vnd.databricks.v1+cell": {
     "cellMetadata": {
      "byteLimit": 2048000,
      "rowLimit": 10000
     },
     "inputWidgets": {},
     "nuid": "02861868-de46-4f6c-8573-762171f81f5e",
     "showTitle": true,
     "tableResultSettingsMap": {},
     "title": "Silver - Substituindo Valores Nulos String"
    }
   },
   "outputs": [],
   "source": [
    "## SUBSTITUINDO NULOS DAS COLUNAS TIPO STRING\n",
    "\n",
    "colunas_str = ['Aerodromo_de_Destino','Aerodromo_de_Origem','CLS','Categoria_da_Aeronave','Classificacao_da_Ocorrência','Danos_a_Aeronave','Data_da_Ocorrencia','Descricao_do_Tipo','Fase_da_Operacao','Historico','Hora_da_Ocorrência','ICAO','Ilesos_Passageiros','Ilesos_Tripulantes','Latitude','Longitude','Matricula','Modelo','Municipio','Nome_do_Fabricante','Numero_da_Ficha','Numero_da_Ocorrencia','Numero_de_Assentos','Operacao','Operador','Operador_Padronizado','PMD','PSSO','Regiao','Tipo_ICAO','Tipo_de_Aerodromo','Tipo_de_Ocorrencia','UF']\n",
    "\n",
    "for Loop in colunas_str : \n",
    "    df = df.fillna('Sem Registro', subset=[Loop])"
   ]
  },
  {
   "cell_type": "code",
   "execution_count": 0,
   "metadata": {
    "application/vnd.databricks.v1+cell": {
     "cellMetadata": {
      "byteLimit": 2048000,
      "rowLimit": 10000
     },
     "inputWidgets": {},
     "nuid": "9c27bb79-607c-4664-8dc0-5b57f066c4ba",
     "showTitle": true,
     "tableResultSettingsMap": {},
     "title": "Silver - Substituindo Nulos Int"
    }
   },
   "outputs": [],
   "source": [
    "## SUBSTITUINDO NULOS DAS COLUNAS TIPO INT - CONVERTENDO STRING P/ INT\n",
    "\n",
    "colunas_int = ['Lesoes_Desconhecidas_Passageiros','Lesoes_Desconhecidas_Terceiros','Lesoes_Desconhecidas_Tripulantes','Lesoes_Fatais_Passageiros','Lesoes_Fatais_Terceiros','Lesoes_Fatais_Tripulantes','Lesoes_Graves_Passageiros','Lesoes_Graves_Terceiros','Lesoes_Graves_Tripulantes','Lesoes_Leves_Passageiros','Lesoes_Leves_Terceiros','Lesoes_Leves_Tripulantes']\n",
    "\n",
    "for Loop in colunas_int: \n",
    "    df = df.withColumn(Loop, df[Loop].cast(\"int\"))\\\n",
    "        .fillna(0, subset=[Loop])"
   ]
  },
  {
   "cell_type": "code",
   "execution_count": 0,
   "metadata": {
    "application/vnd.databricks.v1+cell": {
     "cellMetadata": {
      "byteLimit": 2048000,
      "rowLimit": 10000
     },
     "inputWidgets": {},
     "nuid": "17ec665e-20b5-466e-aff4-7d68009c0256",
     "showTitle": true,
     "tableResultSettingsMap": {},
     "title": "Silver - Salvando na Pasta Silver"
    }
   },
   "outputs": [],
   "source": [
    "## Salvando Arquivo Parquet\n",
    "\n",
    "df.write.mode(\"overwrite\").parquet(\"dbfs:/mnt/Anac/Silver/anac_silver.parquet\")"
   ]
  }
 ],
 "metadata": {
  "application/vnd.databricks.v1+notebook": {
   "computePreferences": null,
   "dashboards": [],
   "environmentMetadata": null,
   "language": "python",
   "notebookMetadata": {
    "mostRecentlyExecutedCommandWithImplicitDF": {
     "commandId": 1636554140990567,
     "dataframes": [
      "_sqldf"
     ]
    },
    "pythonIndentUnit": 4
   },
   "notebookName": "4. Anac - Camada Silver (Refaturado)",
   "widgets": {}
  },
  "language_info": {
   "name": "python"
  }
 },
 "nbformat": 4,
 "nbformat_minor": 0
}
